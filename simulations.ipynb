{
 "cells": [
  {
   "cell_type": "markdown",
   "metadata": {},
   "source": [
    "# Simulations \n"
   ]
  },
  {
   "cell_type": "markdown",
   "metadata": {},
   "source": [
    "Hello sir, \n",
    "This notebook contains the following :\n",
    " - Coin toss \n",
    " - Dice \n",
    " - Random walks\n",
    "     - 1 Dimension \n",
    "     - 2 Dimension \n",
    "     - 3 Dimension \n",
    " - Estimation of PI using Buffons Needle\n",
    "\n",
    "Please find the Poker Simulation is in the other notebook.\n",
    "\n",
    "Thanking you, \n",
    "\n",
    "Amol \n",
    " "
   ]
  },
  {
   "cell_type": "code",
   "execution_count": 2,
   "metadata": {},
   "outputs": [],
   "source": [
    "import numpy as np \n",
    "import pandas as pd\n",
    "import random \n",
    "import matplotlib.pyplot as plt"
   ]
  },
  {
   "cell_type": "code",
   "execution_count": 3,
   "metadata": {},
   "outputs": [
    {
     "name": "stdout",
     "output_type": "stream",
     "text": [
      "54 46\n"
     ]
    }
   ],
   "source": [
    "class Coin:\n",
    "    def toss(self):\n",
    "        a = random.randint(0,1)\n",
    "        return a \n",
    "\n",
    "coin = Coin()\n",
    "head_count = 0 \n",
    "tail_count = 0 \n",
    "for i in range(100):\n",
    "    #print(coin.toss())\n",
    "    if coin.toss() == 0:\n",
    "        head_count += 1 \n",
    "    else:\n",
    "        tail_count += 1\n",
    "\n",
    "print (head_count , tail_count)\n"
   ]
  },
  {
   "cell_type": "code",
   "execution_count": 4,
   "metadata": {},
   "outputs": [],
   "source": [
    "np.random.seed = 12\n",
    "\n",
    "def findRatio(n):\n",
    "    y = np.random.randint(0,2,n)\n",
    "#l = list(y)\n",
    "#zero_count =l.count(0)\n",
    "#one_count = l.count(1)\n",
    "    num_zero =(y == 0).sum()\n",
    "    num_one =(y == 1).sum()\n",
    "#print(y.sum())\n",
    "#print(num_one,num_zero)\n",
    "    prob = num_one/num_zero\n",
    "    return prob\n",
    "\n",
    "def findStd(n):\n",
    "    y = np.random.randint(0,2,n)\n",
    "    return y.std()\n",
    "    "
   ]
  },
  {
   "cell_type": "code",
   "execution_count": 5,
   "metadata": {},
   "outputs": [
    {
     "data": {
      "text/plain": [
       "<matplotlib.collections.PathCollection at 0x17e2206e6a0>"
      ]
     },
     "execution_count": 5,
     "metadata": {},
     "output_type": "execute_result"
    },
    {
     "data": {
      "image/png": "[encoded data removed]",
      "text/plain": [
       "<Figure size 432x288 with 1 Axes>"
      ]
     },
     "metadata": {
      "needs_background": "light"
     },
     "output_type": "display_data"
    }
   ],
   "source": [
    "df = pd.DataFrame({\n",
    "    \"Ite\":[10**i for i in range(1,8)],\n",
    "    \"ratio\":[findRatio(10**i)for i in range(1,8)],\n",
    "    \"std\":[findStd(10**i)for i in range(1,8)]\n",
    "})\n",
    "plt.scatter(np.log(df['Ite']),df['ratio'])\n"
   ]
  },
  {
   "cell_type": "markdown",
   "metadata": {},
   "source": [
    "### Dice  "
   ]
  },
  {
   "cell_type": "code",
   "execution_count": 6,
   "metadata": {},
   "outputs": [
    {
     "data": {
      "text/plain": [
       "(array([16573.,     0., 16726.,     0., 16378.,     0., 16697.,     0.,\n",
       "        16821.,     0., 16805.]),\n",
       " array([1.        , 1.45454545, 1.90909091, 2.36363636, 2.81818182,\n",
       "        3.27272727, 3.72727273, 4.18181818, 4.63636364, 5.09090909,\n",
       "        5.54545455, 6.        ]),\n",
       " <a list of 11 Patch objects>)"
      ]
     },
     "execution_count": 6,
     "metadata": {},
     "output_type": "execute_result"
    },
    {
     "data": {
      "image/png": "[encoded data removed]",
      "text/plain": [
       "<Figure size 432x288 with 1 Axes>"
      ]
     },
     "metadata": {
      "needs_background": "light"
     },
     "output_type": "display_data"
    }
   ],
   "source": [
    "import matplotlib.pyplot as plt\n",
    "\n",
    "die = np.random.randint(1,7,100000)\n",
    "\n",
    "plt.hist(die,bins = 11)\n"
   ]
  },
  {
   "cell_type": "code",
   "execution_count": 7,
   "metadata": {},
   "outputs": [
    {
     "data": {
      "text/plain": [
       "(array([0.03066855, 0.06112392, 0.0916102 , 0.12222408, 0.1528021 ,\n",
       "        0.18334503, 0.15284027, 0.12216402, 0.09156037, 0.06111237,\n",
       "        0.03054909]),\n",
       " array([ 2.        ,  2.90909091,  3.81818182,  4.72727273,  5.63636364,\n",
       "         6.54545455,  7.45454545,  8.36363636,  9.27272727, 10.18181818,\n",
       "        11.09090909, 12.        ]),\n",
       " <a list of 11 Patch objects>)"
      ]
     },
     "execution_count": 7,
     "metadata": {},
     "output_type": "execute_result"
    },
    {
     "data": {
      "image/png": "[encoded data removed]",
      "text/plain": [
       "<Figure size 432x288 with 1 Axes>"
      ]
     },
     "metadata": {
      "needs_background": "light"
     },
     "output_type": "display_data"
    }
   ],
   "source": [
    "die = np.random.randint(1,7,10000000)\n",
    "die2 = np.random.randint(1,7,10000000)\n",
    "dice = die+die2\n",
    "plt.hist(dice,bins = 11, density=True)"
   ]
  },
  {
   "cell_type": "markdown",
   "metadata": {},
   "source": []
  },
  {
   "cell_type": "markdown",
   "metadata": {},
   "source": [
    "# RANDOM WALKS\n"
   ]
  },
  {
   "cell_type": "markdown",
   "metadata": {},
   "source": [
    "### 1 Dimension\n"
   ]
  },
  {
   "cell_type": "code",
   "execution_count": 65,
   "metadata": {},
   "outputs": [
    {
     "data": {
      "text/plain": [
       "(array([ 4.,  7.,  5., 17., 15., 26., 13.,  5.,  6.,  2.]),\n",
       " array([-700., -555., -410., -265., -120.,   25.,  170.,  315.,  460.,\n",
       "         605.,  750.]),\n",
       " <a list of 10 Patch objects>)"
      ]
     },
     "execution_count": 65,
     "metadata": {},
     "output_type": "execute_result"
    },
    {
     "data": {
      "image/png": "[encoded data removed]",
      "text/plain": [
       "<Figure size 432x288 with 1 Axes>"
      ]
     },
     "metadata": {
      "needs_background": "light"
     },
     "output_type": "display_data"
    }
   ],
   "source": [
    "#1Dimension \n",
    "position = []\n",
    "\n",
    "for i in range(100):\n",
    "    current = 0\n",
    "    for i in range(100000):\n",
    "        a = random.randint(0,1)\n",
    "        if a:\n",
    "            current += 1\n",
    "        else:\n",
    "            current -= 1\n",
    "    position.append(current)\n",
    "\n",
    "plt.hist(position)"
   ]
  },
  {
   "cell_type": "code",
   "execution_count": 9,
   "metadata": {},
   "outputs": [
    {
     "data": {
      "text/plain": [
       "[<matplotlib.lines.Line2D at 0x17e222815c0>]"
      ]
     },
     "execution_count": 9,
     "metadata": {},
     "output_type": "execute_result"
    },
    {
     "data": {
      "image/png": "[encoded data removed]",
      "text/plain": [
       "<Figure size 432x288 with 1 Axes>"
      ]
     },
     "metadata": {
      "needs_background": "light"
     },
     "output_type": "display_data"
    }
   ],
   "source": [
    "moves = 1000\n",
    "draws = np.random.randint(0,2,size = moves)\n",
    "steps = np.where(draws>0,1,-1)\n",
    "walk = steps.cumsum()\n",
    "plt.plot(walk)"
   ]
  },
  {
   "cell_type": "markdown",
   "metadata": {},
   "source": [
    "###  2D random walk"
   ]
  },
  {
   "cell_type": "code",
   "execution_count": 23,
   "metadata": {},
   "outputs": [],
   "source": [
    "n = 10000\n",
    "\n",
    "x_cor = np.zeros(n)\n",
    "y_cor = np.zeros(n)\n",
    "distance = []\n",
    "dist_for_man = []\n",
    "for k in range(100):\n",
    "    for i in range(1,n):\n",
    "        a = random.randint(1,4)\n",
    "        if a == 1:\n",
    "            x_cor[i] = 1\n",
    "            y_cor[i] = 0\n",
    "        elif a == 2:\n",
    "            x_cor[i] = -1\n",
    "            y_cor[i] = 0\n",
    "        elif a == 3:\n",
    "            x_cor[i] = 0\n",
    "            y_cor[i] = 1\n",
    "        else:\n",
    "            x_cor[i] = 0\n",
    "            y_cor[i] = -1\n",
    "    x_dist = (x_cor.sum())**2\n",
    "    y_dist = (y_cor.sum())**2\n",
    "    total_dist = (x_dist+y_dist)**0.5 \n",
    "    distance.append(total_dist)\n",
    "    dist_for_man.append(x_cor.sum() + y_cor.sum())\n"
   ]
  },
  {
   "cell_type": "code",
   "execution_count": 71,
   "metadata": {},
   "outputs": [
    {
     "data": {
      "text/plain": [
       "Text(0.5, 1.0, 'Euclidian Distance ')"
      ]
     },
     "execution_count": 71,
     "metadata": {},
     "output_type": "execute_result"
    },
    {
     "data": {
      "image/png": "[encoded data removed]",
      "text/plain": [
       "<Figure size 432x288 with 1 Axes>"
      ]
     },
     "metadata": {
      "needs_background": "light"
     },
     "output_type": "display_data"
    }
   ],
   "source": [
    "#for average birds flight distance (diagonal)\n",
    "plt.hist(distance)\n",
    "plt.title('Euclidian Distance ')"
   ]
  },
  {
   "cell_type": "code",
   "execution_count": 67,
   "metadata": {},
   "outputs": [
    {
     "data": {
      "text/plain": [
       "Text(0.5, 1.0, 'Manhattan Distance')"
      ]
     },
     "execution_count": 67,
     "metadata": {},
     "output_type": "execute_result"
    },
    {
     "data": {
      "image/png": "[encoded data removed]",
      "text/plain": [
       "<Figure size 432x288 with 1 Axes>"
      ]
     },
     "metadata": {
      "needs_background": "light"
     },
     "output_type": "display_data"
    }
   ],
   "source": [
    "# manhattan distance \n",
    "plt.hist(dist_for_man)\n",
    "plt.title('Manhattan Distance')"
   ]
  },
  {
   "cell_type": "code",
   "execution_count": 72,
   "metadata": {},
   "outputs": [
    {
     "data": {
      "text/plain": [
       "Text(0.5, 1.0, 'Euclidian Distance ')"
      ]
     },
     "execution_count": 72,
     "metadata": {},
     "output_type": "execute_result"
    },
    {
     "data": {
      "image/png": "[encoded data removed]",
      "text/plain": [
       "<Figure size 432x288 with 1 Axes>"
      ]
     },
     "metadata": {
      "needs_background": "light"
     },
     "output_type": "display_data"
    }
   ],
   "source": [
    "#3D Random Walks \n",
    "\n",
    "n = 10000\n",
    "x_cor = np.zeros(n)\n",
    "y_cor = np.zeros(n)\n",
    "z_cor = np.zeros(n)\n",
    "distances = []\n",
    "dist_for_man = []\n",
    "for j in range(100):\n",
    "    for i in range(1,n):\n",
    "        a = random.randint(1,6)\n",
    "        if a == 1:\n",
    "            x_cor[i] = 1\n",
    "            y_cor[i] = 0\n",
    "            z_cor[i] = 0\n",
    "        elif a == 2:\n",
    "            x_cor[i] = -1\n",
    "            y_cor[i] = 0\n",
    "            z_cor[i] = 0\n",
    "        elif a == 3:\n",
    "            x_cor[i] = 0\n",
    "            y_cor[i] = 1\n",
    "            z_cor[i] = 0\n",
    "        elif a == 4:\n",
    "            x_cor[i] = 0\n",
    "            y_cor[i] = -1\n",
    "            z_cor[i] = 0\n",
    "        elif a == 5:\n",
    "            x_cor[i] = 0\n",
    "            y_cor[i] = 0\n",
    "            z_cor[i] = 1\n",
    "        else:\n",
    "            x_cor[i] = 0\n",
    "            y_cor[i] = 0\n",
    "            z_cor[i] = -1\n",
    "    dist_for_man.append( x_cor.sum() + y_cor.sum() + z_cor.sum())\n",
    "    distance.append((x_cor.sum()**2 +y_cor.sum()**2+z_cor.sum()**2)**.5)\n",
    "plt.hist(distance)\n",
    "plt.title('Euclidian Distance ')"
   ]
  },
  {
   "cell_type": "code",
   "execution_count": 73,
   "metadata": {},
   "outputs": [
    {
     "data": {
      "text/plain": [
       "Text(0.5, 1.0, 'Manhattan Distance ')"
      ]
     },
     "execution_count": 73,
     "metadata": {},
     "output_type": "execute_result"
    },
    {
     "data": {
      "image/png": "[encoded data removed]",
      "text/plain": [
       "<Figure size 432x288 with 1 Axes>"
      ]
     },
     "metadata": {
      "needs_background": "light"
     },
     "output_type": "display_data"
    }
   ],
   "source": [
    "plt.hist(dist_for_man)\n",
    "plt.title('Manhattan Distance ')"
   ]
  },
  {
   "cell_type": "code",
   "execution_count": 58,
   "metadata": {},
   "outputs": [
    {
     "name": "stdout",
     "output_type": "stream",
     "text": [
      "[3.2, 3.16, 3.06, 3.144, 3.14588, 3.142196, 3.14205]\n"
     ]
    }
   ],
   "source": [
    "#buffons needle \n",
    "num = 8\n",
    "pi = []\n",
    "for j in range(1,num):\n",
    "    in_circle = 0 \n",
    "    for i in range(10**j):\n",
    "        x_cor = random.uniform(-1,1)\n",
    "        y_cor = random.uniform(-1,1)\n",
    "        if x_cor**2 +y_cor**2 <= 1:\n",
    "            in_circle += 1\n",
    "    pi_approx = 4*(in_circle/10**j)\n",
    "    pi.append(pi_approx)\n",
    "print(pi)\n"
   ]
  },
  {
   "cell_type": "code",
   "execution_count": 59,
   "metadata": {},
   "outputs": [
    {
     "data": {
      "text/plain": [
       "[<matplotlib.lines.Line2D at 0x17e2d8ac860>]"
      ]
     },
     "execution_count": 59,
     "metadata": {},
     "output_type": "execute_result"
    },
    {
     "data": {
      "image/png": "[encoded data removed]",
      "text/plain": [
       "<Figure size 432x288 with 1 Axes>"
      ]
     },
     "metadata": {
      "needs_background": "light"
     },
     "output_type": "display_data"
    }
   ],
   "source": [
    "plt.plot(pi)"
   ]
  },
  {
   "cell_type": "code",
   "execution_count": 62,
   "metadata": {},
   "outputs": [
    {
     "data": {
      "text/plain": [
       "[<matplotlib.lines.Line2D at 0x17e2d9c1940>]"
      ]
     },
     "execution_count": 62,
     "metadata": {},
     "output_type": "execute_result"
    },
    {
     "data": {
      "image/png": "[encoded data removed]",
      "text/plain": [
       "<Figure size 432x288 with 1 Axes>"
      ]
     },
     "metadata": {
      "needs_background": "light"
     },
     "output_type": "display_data"
    }
   ],
   "source": [
    "#pi resdiual line plot \n",
    "import math \n",
    "pi = np.array(pi)\n",
    "zero = abs(pi - math.pi)\n",
    "plt.plot(zero)"
   ]
  }
 ],
 "metadata": {
  "kernelspec": {
   "display_name": "Python 3",
   "language": "python",
   "name": "python3"
  },
  "language_info": {
   "codemirror_mode": {
    "name": "ipython",
    "version": 3
   },
   "file_extension": ".py",
   "mimetype": "text/x-python",
   "name": "python",
   "nbconvert_exporter": "python",
   "pygments_lexer": "ipython3",
   "version": "3.7.1"
  }
 },
 "nbformat": 4,
 "nbformat_minor": 2
}
