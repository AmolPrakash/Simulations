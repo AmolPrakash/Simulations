{
 "cells": [
  {
   "cell_type": "markdown",
   "metadata": {},
   "source": [
    "things to do \n",
    "- card class \n",
    "    - number (1-13)\n",
    "    - suit [hearts,diamonds,clubs,spades]\n",
    "    \n",
    "- deck \n",
    "    - forming the deck\n",
    "        (14- ACE \n",
    "         11 - jack \n",
    "         12 - Queen \n",
    "         13 - King)\n",
    "    - shuffling \n",
    "    - distributing \n",
    "\n",
    "- hands \n",
    "    - royal flush \n",
    "        - same suit and A K Q J 10\n",
    "    - straight flush \n",
    "        - same suit and in a sequence \n",
    "    - 4 of a kind \n",
    "        - 4 of a kind \n",
    "    - full house \n",
    "        - two pair + 3 pair\n",
    "    - flush \n",
    "        - same suit no seq\n",
    "    - straight \n",
    "        - sequence \n",
    "    - three of a kind \n",
    "        - 3 of a kind \n",
    "    - two pairs \n",
    "        - TWO two of a kinds \n",
    "    - pair \n",
    "        - two of a kind\n",
    "    - highest card \n",
    "\n",
    "simulate it \n",
    "\n"
   ]
  },
  {
   "cell_type": "markdown",
   "metadata": {},
   "source": [
    "# NOTE : THIS IS CALCULATING PROBABILITIES USING 5 CARDS IN POKER \n"
   ]
  },
  {
   "cell_type": "code",
   "execution_count": 1,
   "metadata": {},
   "outputs": [],
   "source": [
    "import random "
   ]
  },
  {
   "cell_type": "code",
   "execution_count": 2,
   "metadata": {},
   "outputs": [],
   "source": [
    "#creating card\n",
    "class Card:\n",
    "    def __init__(self,a,b):\n",
    "        self.number = a\n",
    "        self.suit = b"
   ]
  },
  {
   "cell_type": "code",
   "execution_count": 3,
   "metadata": {},
   "outputs": [],
   "source": [
    "number = [i for i in range(1,15)]\n",
    "\n",
    "suit = ['Hearts','Diamonds','Clubs','Spades']\n",
    "#creating a deck \n",
    "class Deck:\n",
    "    def __init__(self):\n",
    "        self.deck = [Card(n,s) for n in number\n",
    "                           for s in suit]   \n",
    "        \n",
    "    def shuffle(self):\n",
    "        random.shuffle(self.deck)\n",
    "        \n",
    "    def distribute(self):\n",
    "        self.shuffle()\n",
    "        self.cards_on_table = [self.deck[i] for i in range(5)]\n",
    "        return self.cards_on_table       "
   ]
  },
  {
   "cell_type": "code",
   "execution_count": 4,
   "metadata": {},
   "outputs": [],
   "source": [
    "class PokerHand:\n",
    "    def __init__(self,lyst):\n",
    "        self.hand = lyst\n",
    "        #each hand can have these atributes\n",
    "        self.sameSuit = False\n",
    "        self.sequence = False \n",
    "        self.royalSeq = False       \n",
    "        self.pair = False \n",
    "        self.twoPair = False \n",
    "        self.threeOfAKind = False \n",
    "        self.fourOfAKind = False\n",
    "        \n",
    "    def sortHand(self):\n",
    "        numbersInHand = []\n",
    "        suitsInHand = []\n",
    "        for i in (self.hand):\n",
    "            numbersInHand.append(i.number)\n",
    "            suitsInHand.append(i.suit)    \n",
    "        #print(numbers_in_hand,suits_in_hand)\n",
    "        numbersInHand.sort()\n",
    "        suitsInHand.sort()\n",
    "        self.handNumber = numbersInHand\n",
    "        self.handSuit = suitsInHand \n",
    "    \n",
    "    def checkSuit(self):\n",
    "        #print(self.handSuit)\n",
    "        suits = self.handSuit\n",
    "        maxSuit = max(suits, key = suits.count)\n",
    "        maxSuitCount = suits.count(maxSuit)\n",
    "        #print(max_suit,max_suit_count)\n",
    "        if maxSuitCount == 5:\n",
    "            self.sameSuit = True\n",
    "    \n",
    "    def checkSeq(self):\n",
    "        #print(\"does it even go here?\")\n",
    "        lyst = self.handNumber               \n",
    "        if lyst == [10,11,12,13,14]:\n",
    "            self.royalSeq = True \n",
    "            return \n",
    "        if lyst == [lyst[0]+j for j in range(5)]:\n",
    "            self.sequence = True \n",
    "    \n",
    "    def checkNumbers(self):\n",
    "        self.checkSeq()\n",
    "        numbers = self.handNumber\n",
    "        uniqueNumberLyst = []\n",
    "        for i in self.handNumber:\n",
    "            if i not in uniqueNumberLyst:\n",
    "                uniqueNumberLyst.append(i)\n",
    "        #print(uniqueNumberLyst)\n",
    "        numberOfPairs = 0\n",
    "        numberOfTriple = 0\n",
    "        numberOfFours = 0\n",
    "        for i in uniqueNumberLyst:\n",
    "            count = numbers.count(i)\n",
    "            if count == 2:\n",
    "                numberOfPairs += 1\n",
    "            elif count == 3:\n",
    "                numberOfTriple += 1\n",
    "            elif count == 4:\n",
    "                numberOfFours += 1\n",
    "\n",
    "        if numberOfPairs == 1:\n",
    "            self.pair = True \n",
    "        if numberOfPairs == 2:\n",
    "            self.twoPair = True \n",
    "        if numberOfTriple == 1:\n",
    "            self.threeOfAKind = True\n",
    "        if numberOfTriple == 2:\n",
    "            self.threeOfAKind = True \n",
    "            self.twoPair = True\n",
    "        if numberOfFours:\n",
    "            self.fourOfAKind = True \n",
    "    \n",
    "    def validatingHands(self):\n",
    "        if self.sameSuit and self.royalSeq:\n",
    "            return 'royalFlush'\n",
    "        elif self.sameSuit and self.sequence:\n",
    "            return 'straightFlush'\n",
    "        elif self.fourOfAKind:\n",
    "            return 'fourOfAKind'\n",
    "        elif self.pair and self.threeOfAKind:\n",
    "            return 'fullHouse'\n",
    "        elif self.sameSuit:\n",
    "            return 'flush'\n",
    "        elif self.sequence:\n",
    "            return 'straight'\n",
    "        elif self.threeOfAKind:\n",
    "            return 'threeOfAKind'\n",
    "        elif self.twoPair:\n",
    "            return 'twoPair'\n",
    "        elif self.pair:\n",
    "            return 'pair'\n",
    "        else:\n",
    "            return 'highestCard'\n",
    "    "
   ]
  },
  {
   "cell_type": "code",
   "execution_count": 5,
   "metadata": {},
   "outputs": [],
   "source": [
    "def simulator(number):\n",
    "    deck = Deck()\n",
    "    hands = ['royalFlush','straightFlush','fourOfAKind','flush','fullHouse','straight','threeOfAKind','twoPair','pair','highestCard']\n",
    "    pokerCalc = {a:0 for a in hands}\n",
    "    for i in range(number):\n",
    "        hand = PokerHand(deck.distribute())\n",
    "        hand.sortHand()\n",
    "        hand.checkSuit()\n",
    "        hand.checkNumbers()\n",
    "        currentHand = hand.validatingHands()\n",
    "        pokerCalc[currentHand] += 1\n",
    "    return pokerCalc\n",
    "\n",
    "#pokerHands"
   ]
  },
  {
   "cell_type": "code",
   "execution_count": 6,
   "metadata": {},
   "outputs": [
    {
     "name": "stdout",
     "output_type": "stream",
     "text": [
      "please give number of simulations you would like to run : 5000000\n",
      "royalFlush has 5.9999999999999995e-05 % probability\n",
      "straightFlush has 0.0009 % probability\n",
      "fourOfAKind has 0.01982 % probability\n",
      "flush has 0.20538 % probability\n",
      "fullHouse has 0.11449999999999999 % probability\n",
      "straight has 0.24237999999999998 % probability\n",
      "threeOfAKind has 1.8296199999999998 % probability\n",
      "twoPair has 4.1074 % probability\n",
      "pair has 40.260839999999995 % probability\n",
      "highestCard has 53.2191 % probability\n"
     ]
    }
   ],
   "source": [
    "num = int(input(\"please give number of simulations you would like to run : \"))\n",
    "pokerHands = simulator(num)\n",
    "#sums = 0 \n",
    "for i in pokerHands:\n",
    "    print('{} has {} % probability'.format(i,(pokerHands[i]/num)*100))\n",
    "    #sums+= (pokerHands[i]/num)*100\n",
    "#print(sums)"
   ]
  },
  {
   "cell_type": "code",
   "execution_count": 7,
   "metadata": {},
   "outputs": [
    {
     "data": {
      "text/plain": [
       "{'royalFlush': 3,\n",
       " 'straightFlush': 45,\n",
       " 'fourOfAKind': 991,\n",
       " 'flush': 10269,\n",
       " 'fullHouse': 5725,\n",
       " 'straight': 12119,\n",
       " 'threeOfAKind': 91481,\n",
       " 'twoPair': 205370,\n",
       " 'pair': 2013042,\n",
       " 'highestCard': 2660955}"
      ]
     },
     "execution_count": 7,
     "metadata": {},
     "output_type": "execute_result"
    }
   ],
   "source": [
    "pokerHands"
   ]
  }
 ],
 "metadata": {
  "kernelspec": {
   "display_name": "Python 3",
   "language": "python",
   "name": "python3"
  },
  "language_info": {
   "codemirror_mode": {
    "name": "ipython",
    "version": 3
   },
   "file_extension": ".py",
   "mimetype": "text/x-python",
   "name": "python",
   "nbconvert_exporter": "python",
   "pygments_lexer": "ipython3",
   "version": "3.7.1"
  }
 },
 "nbformat": 4,
 "nbformat_minor": 2
}
